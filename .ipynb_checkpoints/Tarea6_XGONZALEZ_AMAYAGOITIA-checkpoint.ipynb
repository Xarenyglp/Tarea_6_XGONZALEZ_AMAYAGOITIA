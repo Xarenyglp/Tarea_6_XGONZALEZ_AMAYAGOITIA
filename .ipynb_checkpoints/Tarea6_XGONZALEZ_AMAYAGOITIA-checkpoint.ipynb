{
 "cells": [
  {
   "cell_type": "markdown",
   "metadata": {},
   "source": [
    "<img style=\"float: left; margin: 30px 15px 15px 15px;\" src=\"https://pngimage.net/wp-content/uploads/2018/06/logo-iteso-png-5.png\" width=\"300\" height=\"500\" /> \n",
    "    \n",
    "    \n",
    "### <font color='navy'> Simulación de procesos financieros. \n",
    "\n",
    "**Nombres:** Xareny González López, Jose Alberto Mayagoitia Gutierrez.\n",
    "\n",
    "**Fecha:** 12 de octubre del 2021.\n",
    "\n",
    "**Expediente** : if720811, if720266\n",
    "**Profesor:** Oscar David Jaramillo Zuluaga.\n",
    "    \n",
    "**Link Github**: https://github.com/Xarenyglp/Tarea_6_XGONZALEZ_AMAYAGOITIA\n",
    "\n",
    "# Tarea 6: Clase 10"
   ]
  },
  {
   "cell_type": "markdown",
   "metadata": {},
   "source": [
    "Partiendo que se desea generar variables aleatorias para la siguiente función de densidad\n",
    "$$f(x)=30(x^2-2x^3+x^4)$$\n",
    "Responda los siguientes literales:\n"
   ]
  },
  {
   "cell_type": "markdown",
   "metadata": {},
   "source": [
    "### Ejercicio 1: \n",
    "1. Usar como función que mayora a $f(x)$ a $t(x)=a \\sin(\\pi x)$ donde a es el máximo de la función $f(x)$ y graficarlas en una misma gráfica, para validar que en realidad si cumple la condición $t(x)\\geq f(x)$.\n"
   ]
  },
  {
   "cell_type": "code",
   "execution_count": null,
   "metadata": {},
   "outputs": [],
   "source": [
    "#librerias"
   ]
  },
  {
   "cell_type": "markdown",
   "metadata": {},
   "source": [
    "Código de solución estudiante 1"
   ]
  },
  {
   "cell_type": "code",
   "execution_count": null,
   "metadata": {},
   "outputs": [],
   "source": [
    "# Código de solución estudiante 1\n",
    ".\n",
    ".\n",
    ".\n",
    ".\n"
   ]
  },
  {
   "cell_type": "markdown",
   "metadata": {},
   "source": [
    "Código de solución estudiante 2"
   ]
  },
  {
   "cell_type": "code",
   "execution_count": 1,
   "metadata": {},
   "outputs": [],
   "source": [
    "from scipy.stats import erlang\n",
    "from scipy import optimize\n",
    "from scipy.stats import beta\n",
    "import matplotlib.pyplot as plt\n",
    "import numpy as np\n",
    "# %matplotlib notebook\n",
    "%matplotlib inline"
   ]
  },
  {
   "cell_type": "code",
   "execution_count": 5,
   "metadata": {},
   "outputs": [
    {
     "name": "stdout",
     "output_type": "stream",
     "text": [
      "El máximo de f es: [1.875]\n"
     ]
    },
    {
     "data": {
      "image/png": "[encoded data removed]",
      "text/plain": [
       "<Figure size 432x288 with 1 Axes>"
      ]
     },
     "metadata": {
      "needs_background": "light"
     },
     "output_type": "display_data"
    }
   ],
   "source": [
    "# Código de solución estudiante 2\n",
    "# Función objetivo \n",
    "f = lambda x:30*(x**2-2*x**3+x**4)\n",
    "# Máximo de la función f\n",
    "max_f = f(optimize.fmin(lambda x:-f(x),0,disp=False))\n",
    "# Función t -> Función constante\n",
    "t = lambda x: max_f*np.sin(np.pi*x) # función constante\n",
    "\n",
    "x = np.arange(0,1,0.01)  # Rango donde se graficará las funciones\n",
    "print('El máximo de f es:',max_f)\n",
    "# Gráficas de las funciones\n",
    "plt.plot(x,f(x),label='f(x)')\n",
    "plt.plot(x,t(x),label='t(x)')\n",
    "plt.legend()\n",
    "plt.show()"
   ]
  },
  {
   "cell_type": "markdown",
   "metadata": {},
   "source": [
    "### Ejercicio 2: \n",
    "2. Encontrar la función de densidad $g(x)$ según lo visto en clase. Reportar todos los cálculos realizados para encontrar dicha función usando Markdown (Latex)."
   ]
  },
  {
   "cell_type": "markdown",
   "metadata": {},
   "source": [
    "Código de solución estudiante 1"
   ]
  },
  {
   "cell_type": "code",
   "execution_count": null,
   "metadata": {},
   "outputs": [],
   "source": [
    "# Código de solución estudiante 1\n",
    ".\n",
    ".\n",
    ".\n",
    ".\n"
   ]
  },
  {
   "cell_type": "markdown",
   "metadata": {},
   "source": [
    "Código de solución estudiante 2"
   ]
  },
  {
   "cell_type": "markdown",
   "metadata": {},
   "source": [
    "Usando Markdown\n",
    "$$g(x)=\\frac{t(x)}{c}$$\n",
    "$$f(x)=30(x^2-2x^3+x^4)$$\n",
    "$$t(x)=a \\sin(\\pi x)$$\n",
    "\n",
    "$$a=max(f(x))$$\n",
    "\n",
    "$$c=\\int_{0}^{1}a sin(\\pi x)dx$$\n",
    "\n",
    "$$c=max(f(x))\\int_{0}^{1} sin(\\pi x)dx$$\n",
    "$$c= max(f(x))* [-\\frac{cos(\\pi y)}{\\pi} ]_{0}^{1} = \\frac{2}{\\pi}max(f(x))$$\n",
    "\n",
    "$$g(x)=\\frac{t(x)}{c}=\\frac{max(f(x)) \\sin(\\pi x)}{\\frac{2}{\\pi}max(f(x))}=\\frac{\\pi sin(\\pi x)}{2}$$\n"
   ]
  },
  {
   "cell_type": "markdown",
   "metadata": {},
   "source": [
    "### Ejercicio 3: \n",
    "3. Usar la función encontrada en el punto 2 y utilizar el método de la transformada inversa visto en la clase 9, para generar variables aleatorias que sigan la distribución $g(x)$. **Nota:** Recuerde que el método de la transformada inversa funciona con la distribución de probabilidad acumulada y no con su densidad. Nuevamente similar al punto anterior reportar todos los cálculos usando Markdown (Latex). "
   ]
  },
  {
   "cell_type": "markdown",
   "metadata": {},
   "source": [
    "Código de solución estudiante 1"
   ]
  },
  {
   "cell_type": "code",
   "execution_count": null,
   "metadata": {},
   "outputs": [],
   "source": [
    "# Código de solución estudiante 1\n",
    ".\n",
    ".\n",
    ".\n",
    ".\n"
   ]
  },
  {
   "cell_type": "markdown",
   "metadata": {},
   "source": [
    "Código de solución estudiante 2"
   ]
  },
  {
   "cell_type": "markdown",
   "metadata": {},
   "source": [
    "$$G(x)= \\int_{0}^{x} g(x)dx = \\frac{1}{2} \\int_{0}^{x} sin(\\pi x)$$\n",
    "\n",
    "$$G(x)=-\\frac{1}{2} [cos(\\pi x)]^{x}_{0}= \\frac{1}{2} (1-cos(\\pi x))$$\n",
    "\n",
    "$$U= \\frac{1}{2} (1-cos(\\pi x))$$\n",
    "\n",
    "Despejamos\n",
    "\n",
    "\n",
    "$$x=2U=(1-cos(\\pi x)$$\n",
    "\n",
    "$$cos(\\pi x)+2U =1 $$\n",
    "\n",
    "$$cos(\\pi x)=1 - 2U  $$\n",
    "\n",
    "$$\\pi x= arcos(1 - 2U)  $$\n",
    "\n",
    "$$x= \\frac{arcos(1 - 2U)}{\\pi }  $$"
   ]
  },
  {
   "cell_type": "markdown",
   "metadata": {},
   "source": [
    "### Ejercicio 4: \n",
    "4. Según el punto 3, generar 10000 puntos aleatorios que sigan la distribución $g(x)$ y comparar con su histograma para validar que los puntos generados siguen la distribución deseada. El resultado debe ser como sigue:\n",
    "![descarga.png](attachment:descarga.png)"
   ]
  },
  {
   "cell_type": "markdown",
   "metadata": {},
   "source": [
    "Código de solución estudiante 1"
   ]
  },
  {
   "cell_type": "code",
   "execution_count": null,
   "metadata": {},
   "outputs": [],
   "source": [
    "# Código de solución estudiante 1\n",
    ".\n",
    ".\n",
    ".\n",
    ".\n"
   ]
  },
  {
   "cell_type": "markdown",
   "metadata": {},
   "source": [
    "Código de solución estudiante 2"
   ]
  },
  {
   "cell_type": "code",
   "execution_count": 6,
   "metadata": {},
   "outputs": [],
   "source": [
    "import scipy.optimize as opt\n",
    "import math"
   ]
  },
  {
   "cell_type": "code",
   "execution_count": 9,
   "metadata": {},
   "outputs": [],
   "source": [
    "# Código de solución estudiante 2\n",
    "def aleatorios(N):\n",
    "    z =np.random.uniform(0,2/np.pi,N)\n",
    "    y=list(map(lambda x: (1/np.pi)*np.arccos(1-np.pi*z[x]),range(N)))\n",
    "    return y"
   ]
  },
  {
   "cell_type": "code",
   "execution_count": 13,
   "metadata": {},
   "outputs": [
    {
     "data": {
      "image/png": "[encoded data removed]",
      "text/plain": [
       "<Figure size 432x288 with 1 Axes>"
      ]
     },
     "metadata": {
      "needs_background": "light"
     },
     "output_type": "display_data"
    }
   ],
   "source": [
    "N = 10**4\n",
    "\n",
    "def histograma(N):\n",
    "    r1=aleatorios(N)\n",
    "    y,x,_=plt.hist(r1, bins=50,density=True)\n",
    "    y2 =(np.pi*np.sin(np.pi*x))/2 \n",
    "    plt.plot(x,y2,'r-')\n",
    "    plt.show()                    \n",
    "\n",
    "histograma(N)"
   ]
  },
  {
   "cell_type": "markdown",
   "metadata": {},
   "source": [
    "### Ejercicio 5: \n",
    "5. Genere 500 puntos aleatorios usando el método de aceptación y rechazo y las funciones $f(x)$ y $t(x)$ para validar que todos los cálculos anteriores están correctamente realizados. El resultado debe de ser como sigue:\n",
    "![imagen.png](attachment:imagen.png)"
   ]
  },
  {
   "cell_type": "markdown",
   "metadata": {},
   "source": [
    "Código de solución estudiante 1"
   ]
  },
  {
   "cell_type": "code",
   "execution_count": null,
   "metadata": {},
   "outputs": [],
   "source": [
    "# Código de solución estudiante 1\n",
    ".\n",
    ".\n",
    ".\n",
    "."
   ]
  },
  {
   "cell_type": "markdown",
   "metadata": {},
   "source": [
    "Código de solución estudiante 2"
   ]
  },
  {
   "cell_type": "code",
   "execution_count": 14,
   "metadata": {},
   "outputs": [],
   "source": [
    "# Código de solución estudiante 2\n",
    "# Función de aceptación y rechazo usando compresión de listas\n",
    "def Acep_rechazo(R2:'Variables distruidas U~U(0,1)',\n",
    "                 R1:'Variables distribuidas como g(x)',\n",
    "                 f:'función objetivo a generar',\n",
    "                 t:'función que mayora a f'):\n",
    "#     R1 = np.random.rand(N)\n",
    "    f_x = f(R1)\n",
    "    t_x = t(R1)\n",
    "    condition = R2*t_x <=f_x\n",
    "    [plt.plot(R1[i],R2[i]*t_x[i],'ob') if condition[i] else plt.plot(R1[i],R2[i]*t_x[i],'o') \\\n",
    "         for i in range(len(R1))]\n",
    "                \n",
    "    plt.show()"
   ]
  },
  {
   "cell_type": "code",
   "execution_count": 15,
   "metadata": {},
   "outputs": [
    {
     "name": "stdout",
     "output_type": "stream",
     "text": [
      "El máximo de f es: [1.875]\n"
     ]
    },
    {
     "data": {
      "image/png": "[encoded data removed]",
      "text/plain": [
       "<Figure size 432x288 with 1 Axes>"
      ]
     },
     "metadata": {
      "needs_background": "light"
     },
     "output_type": "display_data"
    }
   ],
   "source": [
    "# Ilustración del método de aceptación y rechazo cuando se toma t(x) constante\n",
    "\n",
    "# Función objetivo \n",
    "f = lambda x:30*(x**2-2*x**3+x**4)\n",
    "# Máximo de la función f\n",
    "max_f = f(optimize.fmin(lambda x:-f(x),0,disp=False))\n",
    "# Función t \n",
    "t = lambda x: max_f*np.sin(np.pi*x) \n",
    "\n",
    "# Rango donde se graficará las funciones\n",
    "x = np.arange(0,1,0.01)  \n",
    "print('El máximo de f es:',max_f)\n",
    "\n",
    "# Gráficas de las funciones\n",
    "plt.plot(x,f(x),label='f(x)')\n",
    "plt.plot(x,t(x),label='t(x)')\n",
    "plt.legend()\n",
    "\n",
    "# Validación del método\n",
    "N = 500 # Puntos aleatorios\n",
    "R2 = np.random.rand(N)\n",
    "R1 = np.arccos(1-2*np.random.rand(N))/np.pi\n",
    "\n",
    "Acep_rechazo(R2, R1, f, t)"
   ]
  },
  {
   "cell_type": "markdown",
   "metadata": {},
   "source": [
    "### Ejercicio 6: \n",
    "6. Comparar el porcentaje de puntos de aceptación cuando se usa $t(x)$ constante y $t(x)$ un pulso senoidal. Concluir"
   ]
  },
  {
   "cell_type": "markdown",
   "metadata": {},
   "source": [
    "Código de solución estudiante 1"
   ]
  },
  {
   "cell_type": "code",
   "execution_count": null,
   "metadata": {},
   "outputs": [],
   "source": [
    "# Código de solución estudiante 1\n",
    ".\n",
    ".\n",
    ".\n",
    "."
   ]
  },
  {
   "cell_type": "markdown",
   "metadata": {},
   "source": [
    "Código de solución estudiante 2"
   ]
  },
  {
   "cell_type": "code",
   "execution_count": 16,
   "metadata": {},
   "outputs": [
    {
     "data": {
      "text/plain": [
       "82.19999999999999"
      ]
     },
     "execution_count": 16,
     "metadata": {},
     "output_type": "execute_result"
    }
   ],
   "source": [
    "# Código de solución estudiante 2\n",
    "# Función de aceptación y rechazo cuando se usa t(x) un pulso senoidal\n",
    "def Acep_rech2(R2:'Variables distruidas U~U(0,1)',\n",
    "                 R1:'Variables distribuidas como g(x)',\n",
    "                 f:'función objetivo a generar',\n",
    "                 t:'función que mayora a f'):\n",
    "#     R1 = np.random.rand(N)\n",
    "    f_x = f(R1)\n",
    "    t_x = t(R1)\n",
    "    condition = R2*t_x <=f_x\n",
    "    cont=np.asarray([1 if condition[i] else 0 for i in range(len(R1))]).sum()\n",
    "    return cont\n",
    "\n",
    "res=(Acep_rech2(R2,R1,f,t)/len(R1))*100\n",
    "res"
   ]
  },
  {
   "cell_type": "code",
   "execution_count": 19,
   "metadata": {},
   "outputs": [
    {
     "name": "stdout",
     "output_type": "stream",
     "text": [
      "El porcentaje de puntos de aceptación es de: 82.19999999999999 con pulso senoidal\n"
     ]
    }
   ],
   "source": [
    "print('El porcentaje de puntos de aceptación es de:', res, 'con pulso senoidal')"
   ]
  },
  {
   "cell_type": "code",
   "execution_count": 18,
   "metadata": {},
   "outputs": [
    {
     "data": {
      "text/plain": [
       "75.0"
      ]
     },
     "execution_count": 18,
     "metadata": {},
     "output_type": "execute_result"
    }
   ],
   "source": [
    "# Función de aceptación y rechazo cuando se usa t(x) constante\n",
    "R_1=np.random.rand(N)\n",
    "R_2=np.random.rand(N)\n",
    "res_2=(Acep_rech2(R_1,R_2,f,t)/len(R1))*100\n",
    "res_2"
   ]
  },
  {
   "cell_type": "code",
   "execution_count": 20,
   "metadata": {},
   "outputs": [
    {
     "name": "stdout",
     "output_type": "stream",
     "text": [
      "El porcentaje de puntos de aceptación es de: 75.0 con constante\n"
     ]
    }
   ],
   "source": [
    "print('El porcentaje de puntos de aceptación es de:', res_2, 'con constante')"
   ]
  },
  {
   "cell_type": "markdown",
   "metadata": {},
   "source": [
    "Concluimos que con pulso senoidal los puntos que son aceptados son algo mayores a los que se obtienen cuando t(x) es constante, ya que en el pulso senoidal nuestra funcion es parecida."
   ]
  },
  {
   "cell_type": "markdown",
   "metadata": {},
   "source": [
    "### Ejercicio 7: \n",
    "7. Genere una variable aleatoria $X$ a partir de la siguiente PDF\n",
    "$$f(x)=20x(1-x)^3$$ \n",
    "usando el método de aceptación y rechazo"
   ]
  },
  {
   "cell_type": "markdown",
   "metadata": {},
   "source": [
    "Código de solución estudiante 1"
   ]
  },
  {
   "cell_type": "code",
   "execution_count": null,
   "metadata": {},
   "outputs": [],
   "source": [
    "# Código de solución estudiante 1\n",
    ".\n",
    ".\n",
    ".\n",
    "."
   ]
  },
  {
   "cell_type": "markdown",
   "metadata": {},
   "source": [
    "Código de solución estudiante 2"
   ]
  },
  {
   "cell_type": "code",
   "execution_count": null,
   "metadata": {},
   "outputs": [],
   "source": []
  },
  {
   "cell_type": "code",
   "execution_count": null,
   "metadata": {},
   "outputs": [],
   "source": []
  },
  {
   "cell_type": "markdown",
   "metadata": {},
   "source": [
    "### Ejercicio 8: \n",
    "8. Demostrar la validez de la siguiente ecuación\n",
    "$$p_{i+1}=\\frac{n-i}{i+1}\\frac{p}{1-p} p_i$$"
   ]
  },
  {
   "cell_type": "markdown",
   "metadata": {},
   "source": [
    "Código de solución estudiante 1"
   ]
  },
  {
   "cell_type": "code",
   "execution_count": null,
   "metadata": {},
   "outputs": [],
   "source": [
    "# Código de solución estudiante 1\n",
    ".\n",
    ".\n",
    ".\n",
    "."
   ]
  },
  {
   "cell_type": "markdown",
   "metadata": {},
   "source": [
    "Código de solución estudiante 2"
   ]
  },
  {
   "cell_type": "code",
   "execution_count": null,
   "metadata": {},
   "outputs": [],
   "source": [
    "# Código de solución estudiante 2\n",
    ".\n",
    ".\n",
    ".\n",
    "."
   ]
  },
  {
   "cell_type": "markdown",
   "metadata": {},
   "source": [
    "### Ejercicio 9: \n",
    "9. Seguir un procedimiento similar al mostrado cuando se generó una distribución binomial, pero en esta caso genere un código que genere variables aletorias Poisson cuya función de distribución de probabilidad esta dada por:\n",
    "$$P(k,\\lambda)=\\frac{e^{-\\lambda}(\\lambda)^k}{k!}$$\n",
    "Demuestre matemáticamente que \n",
    " $$P(k+1)=\\frac{\\lambda}{k+1}P(k)$$\n",
    " y a partir de esta relación genere variables aletorias que distribuyen poisson usando el método de la transformada inversa."
   ]
  },
  {
   "cell_type": "markdown",
   "metadata": {},
   "source": [
    "Código de solución estudiante 1"
   ]
  },
  {
   "cell_type": "code",
   "execution_count": null,
   "metadata": {},
   "outputs": [],
   "source": [
    "# Código de solución estudiante 1\n",
    ".\n",
    ".\n",
    ".\n",
    "."
   ]
  },
  {
   "cell_type": "markdown",
   "metadata": {},
   "source": [
    "Código de solución estudiante 2"
   ]
  },
  {
   "cell_type": "code",
   "execution_count": null,
   "metadata": {},
   "outputs": [],
   "source": [
    "# Código de solución estudiante 2\n",
    ".\n",
    ".\n",
    ".\n",
    "."
   ]
  }
 ],
 "metadata": {
  "kernelspec": {
   "display_name": "Python 3",
   "language": "python",
   "name": "python3"
  },
  "language_info": {
   "codemirror_mode": {
    "name": "ipython",
    "version": 3
   },
   "file_extension": ".py",
   "mimetype": "text/x-python",
   "name": "python",
   "nbconvert_exporter": "python",
   "pygments_lexer": "ipython3",
   "version": "3.7.3"
  }
 },
 "nbformat": 4,
 "nbformat_minor": 2
}
